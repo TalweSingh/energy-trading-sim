{
 "cells": [
  {
   "cell_type": "code",
   "execution_count": 1,
   "metadata": {},
   "outputs": [],
   "source": [
    "import sys\n",
    "sys.path.append(\"..\")\n",
    "import src.sim\n",
    "import src.strategy\n",
    "import src.clearing\n",
    "from src.plot import SimulationVisualizer"
   ]
  },
  {
   "cell_type": "code",
   "execution_count": 2,
   "metadata": {},
   "outputs": [],
   "source": [
    "import datetime\n",
    "from typing import Dict, List, Any\n",
    "from src.clearing import ClearingMechanism\n",
    "\n",
    "class MinimalClearing(ClearingMechanism):\n",
    "    \"\"\"Extremely simple clearing that only matches orders with identical prices.\"\"\"\n",
    "    \n",
    "    def clear(self, current_time: datetime.datetime, active_orders: Dict[str, Any]) -> List[Any]:\n",
    "        \"\"\"Match orders with identical prices for the same contract time.\n",
    "        \n",
    "        Args:\n",
    "            current_time: Current simulation time\n",
    "            active_orders: Dictionary of all active orders\n",
    "            \n",
    "        Returns:\n",
    "            List of orders that were filled\n",
    "        \"\"\"\n",
    "        filled_orders = []\n",
    "        \n",
    "        # Group orders by contract time and price\n",
    "        by_contract_price = {}\n",
    "        for order in active_orders.values():\n",
    "            key = (order.contract_time, order.price)\n",
    "            if key not in by_contract_price:\n",
    "                by_contract_price[key] = {'buy': [], 'sell': []}\n",
    "            by_contract_price[key][order.side].append(order)\n",
    "        \n",
    "        # Match orders with identical price\n",
    "        for (contract_time, price), sides in by_contract_price.items():\n",
    "            buys = sides['buy']\n",
    "            sells = sides['sell']\n",
    "            \n",
    "            # If we have both buys and sells at this price, match them\n",
    "            while buys and sells:\n",
    "                buy = buys.pop(0)\n",
    "                sell = sells.pop(0)\n",
    "                \n",
    "                # Set execution price\n",
    "                buy.execution_price = price\n",
    "                sell.execution_price = price\n",
    "                \n",
    "                # Add to filled orders\n",
    "                filled_orders.append(buy)\n",
    "                filled_orders.append(sell)\n",
    "        \n",
    "        return filled_orders"
   ]
  },
  {
   "cell_type": "code",
   "execution_count": 3,
   "metadata": {},
   "outputs": [],
   "source": [
    "import datetime\n",
    "from typing import List, Tuple\n",
    "from src.strategy import Strategy\n",
    "\n",
    "class FixedOrderStrategy(Strategy):\n",
    "    \"\"\"Minimal strategy that places a single order once.\"\"\"\n",
    "    \n",
    "    def __init__(self, price=50.0, quantity=1, side='buy'):\n",
    "        \"\"\"Initialize with fixed order parameters.\"\"\"\n",
    "        super().__init__()\n",
    "        self.price = price\n",
    "        self.quantity = quantity\n",
    "        self.side = side\n",
    "        self.has_placed_order = False\n",
    "    \n",
    "    def update_orders(self, current_time: datetime.datetime) -> Tuple[List, List, List]:\n",
    "        \"\"\"Place a single order on the first call, then do nothing.\"\"\"\n",
    "        if not self.has_placed_order:\n",
    "            # Create contract time 1 hour ahead\n",
    "            contract_time = current_time + datetime.timedelta(hours=1)\n",
    "            \n",
    "            # Create order\n",
    "            order = self.create_order(\n",
    "                price=self.price,\n",
    "                quantity=self.quantity,\n",
    "                contract_time=contract_time,\n",
    "                side=self.side\n",
    "            )\n",
    "            \n",
    "            return [order], [], []\n",
    "        else:\n",
    "            return [], [], []"
   ]
  },
  {
   "cell_type": "code",
   "execution_count": 4,
   "metadata": {},
   "outputs": [
    {
     "name": "stderr",
     "output_type": "stream",
     "text": [
      "2025-04-17 13:38:52,160 - TradingSimulation - INFO - Starting simulation from 2023-01-01 10:00:00 to 2023-01-01 15:30:00\n",
      "2025-04-17 13:38:52,164 - TradingSimulation - INFO - Simulation complete\n"
     ]
    },
    {
     "name": "stdout",
     "output_type": "stream",
     "text": [
      "Order history shape: (90, 12)\n",
      "Total events: 90, Unique orders: 46\n",
      "Event type counts:\n",
      "event_type\n",
      "submitted    46\n",
      "filled       44\n",
      "Name: count, dtype: int64\n",
      "Status counts:\n",
      "status\n",
      "active    46\n",
      "filled    44\n",
      "Name: count, dtype: int64\n",
      "Metrics fill_rate data:\n",
      "  23d220ec-9ca7-44c8-81b2-91c120c371fa: {'submitted_orders': 23, 'filled_orders': 22, 'fill_rate': 0.9565217391304348}\n",
      "  ce452162-a798-4b3d-b44f-09e09447ff11: {'submitted_orders': 23, 'filled_orders': 22, 'fill_rate': 0.9565217391304348}\n",
      "\n",
      "Fill counts by strategy:\n",
      "  23d220ec-9ca7-44c8-81b2-91c120c371fa: 22/23 (95.7% filled)\n",
      "  ce452162-a798-4b3d-b44f-09e09447ff11: 22/23 (95.7% filled)\n"
     ]
    },
    {
     "data": {
      "application/vnd.plotly.v1+json": {
       "config": {
        "plotlyServerURL": "https://plot.ly"
       },
       "data": [
        {
         "cells": {
          "align": "left",
          "values": [
           [
            "23d220ec-9ca7-44c8-81b2-91c120c371fa",
            "ce452162-a798-4b3d-b44f-09e09447ff11"
           ],
           [
            "95.7%",
            "95.7%"
           ],
           [
            "50.00",
            "50.00"
           ],
           [
            "50.00",
            ""
           ],
           [
            "900.0",
            "900.0"
           ],
           [
            "22",
            "22"
           ]
          ]
         },
         "domain": {
          "x": [
           0,
           1
          ],
          "y": [
           0.8400000000000001,
           1
          ]
         },
         "header": {
          "align": "left",
          "fill": {
           "color": [
            "rgb(235, 245, 255)",
            "rgb(235, 245, 255)",
            "rgb(235, 245, 255)",
            "rgb(235, 245, 255)",
            "rgb(235, 245, 255)",
            "rgb(235, 245, 255)"
           ]
          },
          "font": {
           "size": 12
          },
          "values": [
           "Strategy",
           "Fill Rate",
           "VWAP",
           "Buy VWAP",
           "Avg Time to Fill (s)",
           "Volume"
          ]
         },
         "type": "table"
        },
        {
         "customdata": [
          [
           "23d220ec-9ca7-44c8-81b2-91c120c371fa",
           "2023-01-01 10:00",
           0,
           1
          ],
          [
           "23d220ec-9ca7-44c8-81b2-91c120c371fa",
           "2023-01-01 10:15",
           0,
           1
          ],
          [
           "23d220ec-9ca7-44c8-81b2-91c120c371fa",
           "2023-01-01 10:30",
           0,
           1
          ],
          [
           "23d220ec-9ca7-44c8-81b2-91c120c371fa",
           "2023-01-01 10:45",
           0,
           1
          ],
          [
           "23d220ec-9ca7-44c8-81b2-91c120c371fa",
           "2023-01-01 11:00",
           0,
           1
          ],
          [
           "23d220ec-9ca7-44c8-81b2-91c120c371fa",
           "2023-01-01 11:15",
           0,
           1
          ],
          [
           "23d220ec-9ca7-44c8-81b2-91c120c371fa",
           "2023-01-01 11:30",
           0,
           1
          ],
          [
           "23d220ec-9ca7-44c8-81b2-91c120c371fa",
           "2023-01-01 11:45",
           0,
           1
          ],
          [
           "23d220ec-9ca7-44c8-81b2-91c120c371fa",
           "2023-01-01 12:00",
           0,
           1
          ],
          [
           "23d220ec-9ca7-44c8-81b2-91c120c371fa",
           "2023-01-01 12:15",
           0,
           1
          ],
          [
           "23d220ec-9ca7-44c8-81b2-91c120c371fa",
           "2023-01-01 12:30",
           0,
           1
          ],
          [
           "23d220ec-9ca7-44c8-81b2-91c120c371fa",
           "2023-01-01 12:45",
           0,
           1
          ],
          [
           "23d220ec-9ca7-44c8-81b2-91c120c371fa",
           "2023-01-01 13:00",
           0,
           1
          ],
          [
           "23d220ec-9ca7-44c8-81b2-91c120c371fa",
           "2023-01-01 13:15",
           0,
           1
          ],
          [
           "23d220ec-9ca7-44c8-81b2-91c120c371fa",
           "2023-01-01 13:30",
           0,
           1
          ],
          [
           "23d220ec-9ca7-44c8-81b2-91c120c371fa",
           "2023-01-01 13:45",
           0,
           1
          ],
          [
           "23d220ec-9ca7-44c8-81b2-91c120c371fa",
           "2023-01-01 14:00",
           0,
           1
          ],
          [
           "23d220ec-9ca7-44c8-81b2-91c120c371fa",
           "2023-01-01 14:15",
           0,
           1
          ],
          [
           "23d220ec-9ca7-44c8-81b2-91c120c371fa",
           "2023-01-01 14:30",
           0,
           1
          ],
          [
           "23d220ec-9ca7-44c8-81b2-91c120c371fa",
           "2023-01-01 14:45",
           0,
           1
          ],
          [
           "23d220ec-9ca7-44c8-81b2-91c120c371fa",
           "2023-01-01 15:00",
           0,
           1
          ],
          [
           "23d220ec-9ca7-44c8-81b2-91c120c371fa",
           "2023-01-01 15:15",
           0,
           1
          ]
         ],
         "hovertemplate": "<b>Buy Order</b><br>Price: %{y:.2f}<br>Contract Time: %{x}<br>Filled: Yes<br>Strategy: %{customdata[0]}<br>Submission: %{customdata[1]}<br>Time to Fill: %{customdata[2]:.0f} sec<br>Quantity: %{customdata[3]}",
         "marker": {
          "color": {
           "bdata": "AAAAAAAAAAAAAAAAAAAAAAAAAAAAAAAAAAAAAAAAAAAAAAAAAAAAAAAAAAAAAAAAAAAAAAAAAAAAAAAAAAAAAAAAAAAAAAAAAAAAAAAAAAAAAAAAAAAAAAAAAAAAAAAAAAAAAAAAAAAAAAAAAAAAAAAAAAAAAAAAAAAAAAAAAAAAAAAAAAAAAAAAAAAAAAAAAAAAAAAAAAAAAAAAAAAAAAAAAAAAAAAAAAAAAAAAAAA=",
           "dtype": "f8"
          },
          "colorbar": {
           "title": {
            "text": "Seconds to Fill"
           }
          },
          "colorscale": [
           [
            0,
            "#440154"
           ],
           [
            0.1111111111111111,
            "#482878"
           ],
           [
            0.2222222222222222,
            "#3e4989"
           ],
           [
            0.3333333333333333,
            "#31688e"
           ],
           [
            0.4444444444444444,
            "#26828e"
           ],
           [
            0.5555555555555556,
            "#1f9e89"
           ],
           [
            0.6666666666666666,
            "#35b779"
           ],
           [
            0.7777777777777778,
            "#6ece58"
           ],
           [
            0.8888888888888888,
            "#b5de2b"
           ],
           [
            1,
            "#fde725"
           ]
          ],
          "size": {
           "bdata": "AgICAgICAgICAgICAgICAgICAgICAg==",
           "dtype": "i1"
          },
          "symbol": "triangle-up"
         },
         "mode": "markers",
         "name": "Filled Buy Orders",
         "type": "scatter",
         "x": [
          "2023-01-01T11:00:00.000000000",
          "2023-01-01T11:15:00.000000000",
          "2023-01-01T11:30:00.000000000",
          "2023-01-01T11:45:00.000000000",
          "2023-01-01T12:00:00.000000000",
          "2023-01-01T12:15:00.000000000",
          "2023-01-01T12:30:00.000000000",
          "2023-01-01T12:45:00.000000000",
          "2023-01-01T13:00:00.000000000",
          "2023-01-01T13:15:00.000000000",
          "2023-01-01T13:30:00.000000000",
          "2023-01-01T13:45:00.000000000",
          "2023-01-01T14:00:00.000000000",
          "2023-01-01T14:15:00.000000000",
          "2023-01-01T14:30:00.000000000",
          "2023-01-01T14:45:00.000000000",
          "2023-01-01T15:00:00.000000000",
          "2023-01-01T15:15:00.000000000",
          "2023-01-01T15:30:00.000000000",
          "2023-01-01T15:45:00.000000000",
          "2023-01-01T16:00:00.000000000",
          "2023-01-01T16:15:00.000000000"
         ],
         "xaxis": "x",
         "y": {
          "bdata": "AAAAAAAASUAAAAAAAABJQAAAAAAAAElAAAAAAAAASUAAAAAAAABJQAAAAAAAAElAAAAAAAAASUAAAAAAAABJQAAAAAAAAElAAAAAAAAASUAAAAAAAABJQAAAAAAAAElAAAAAAAAASUAAAAAAAABJQAAAAAAAAElAAAAAAAAASUAAAAAAAABJQAAAAAAAAElAAAAAAAAASUAAAAAAAABJQAAAAAAAAElAAAAAAAAASUA=",
          "dtype": "f8"
         },
         "yaxis": "y"
        },
        {
         "customdata": [
          [
           "23d220ec-9ca7-44c8-81b2-91c120c371fa",
           "2023-01-01 15:30",
           1
          ]
         ],
         "hovertemplate": "<b>Buy Order</b><br>Price: %{y:.2f}<br>Contract Time: %{x}<br>Filled: No<br>Strategy: %{customdata[0]}<br>Submission: %{customdata[1]}<br>Quantity: %{customdata[2]}",
         "marker": {
          "color": "rgba(0, 0, 255, 0.5)",
          "line": {
           "color": "black",
           "width": 1
          },
          "size": {
           "bdata": "Ag==",
           "dtype": "i1"
          },
          "symbol": "triangle-up"
         },
         "mode": "markers",
         "name": "Unfilled Buy Orders",
         "type": "scatter",
         "x": [
          "2023-01-01T16:30:00.000000000"
         ],
         "xaxis": "x",
         "y": {
          "bdata": "AAAAAAAASUA=",
          "dtype": "f8"
         },
         "yaxis": "y"
        },
        {
         "customdata": [
          [
           "ce452162-a798-4b3d-b44f-09e09447ff11",
           "2023-01-01 10:00",
           0,
           1
          ],
          [
           "ce452162-a798-4b3d-b44f-09e09447ff11",
           "2023-01-01 10:15",
           0,
           1
          ],
          [
           "ce452162-a798-4b3d-b44f-09e09447ff11",
           "2023-01-01 10:30",
           0,
           1
          ],
          [
           "ce452162-a798-4b3d-b44f-09e09447ff11",
           "2023-01-01 10:45",
           0,
           1
          ],
          [
           "ce452162-a798-4b3d-b44f-09e09447ff11",
           "2023-01-01 11:00",
           0,
           1
          ],
          [
           "ce452162-a798-4b3d-b44f-09e09447ff11",
           "2023-01-01 11:15",
           0,
           1
          ],
          [
           "ce452162-a798-4b3d-b44f-09e09447ff11",
           "2023-01-01 11:30",
           0,
           1
          ],
          [
           "ce452162-a798-4b3d-b44f-09e09447ff11",
           "2023-01-01 11:45",
           0,
           1
          ],
          [
           "ce452162-a798-4b3d-b44f-09e09447ff11",
           "2023-01-01 12:00",
           0,
           1
          ],
          [
           "ce452162-a798-4b3d-b44f-09e09447ff11",
           "2023-01-01 12:15",
           0,
           1
          ],
          [
           "ce452162-a798-4b3d-b44f-09e09447ff11",
           "2023-01-01 12:30",
           0,
           1
          ],
          [
           "ce452162-a798-4b3d-b44f-09e09447ff11",
           "2023-01-01 12:45",
           0,
           1
          ],
          [
           "ce452162-a798-4b3d-b44f-09e09447ff11",
           "2023-01-01 13:00",
           0,
           1
          ],
          [
           "ce452162-a798-4b3d-b44f-09e09447ff11",
           "2023-01-01 13:15",
           0,
           1
          ],
          [
           "ce452162-a798-4b3d-b44f-09e09447ff11",
           "2023-01-01 13:30",
           0,
           1
          ],
          [
           "ce452162-a798-4b3d-b44f-09e09447ff11",
           "2023-01-01 13:45",
           0,
           1
          ],
          [
           "ce452162-a798-4b3d-b44f-09e09447ff11",
           "2023-01-01 14:00",
           0,
           1
          ],
          [
           "ce452162-a798-4b3d-b44f-09e09447ff11",
           "2023-01-01 14:15",
           0,
           1
          ],
          [
           "ce452162-a798-4b3d-b44f-09e09447ff11",
           "2023-01-01 14:30",
           0,
           1
          ],
          [
           "ce452162-a798-4b3d-b44f-09e09447ff11",
           "2023-01-01 14:45",
           0,
           1
          ],
          [
           "ce452162-a798-4b3d-b44f-09e09447ff11",
           "2023-01-01 15:00",
           0,
           1
          ],
          [
           "ce452162-a798-4b3d-b44f-09e09447ff11",
           "2023-01-01 15:15",
           0,
           1
          ]
         ],
         "hovertemplate": "<b>Sell Order</b><br>Price: %{y:.2f}<br>Contract Time: %{x}<br>Filled: Yes<br>Strategy: %{customdata[0]}<br>Submission: %{customdata[1]}<br>Time to Fill: %{customdata[2]:.0f} sec<br>Quantity: %{customdata[3]}",
         "marker": {
          "color": {
           "bdata": "AAAAAAAAAAAAAAAAAAAAAAAAAAAAAAAAAAAAAAAAAAAAAAAAAAAAAAAAAAAAAAAAAAAAAAAAAAAAAAAAAAAAAAAAAAAAAAAAAAAAAAAAAAAAAAAAAAAAAAAAAAAAAAAAAAAAAAAAAAAAAAAAAAAAAAAAAAAAAAAAAAAAAAAAAAAAAAAAAAAAAAAAAAAAAAAAAAAAAAAAAAAAAAAAAAAAAAAAAAAAAAAAAAAAAAAAAAA=",
           "dtype": "f8"
          },
          "colorbar": {
           "title": {
            "text": "Seconds to Fill"
           }
          },
          "colorscale": [
           [
            0,
            "#440154"
           ],
           [
            0.1111111111111111,
            "#482878"
           ],
           [
            0.2222222222222222,
            "#3e4989"
           ],
           [
            0.3333333333333333,
            "#31688e"
           ],
           [
            0.4444444444444444,
            "#26828e"
           ],
           [
            0.5555555555555556,
            "#1f9e89"
           ],
           [
            0.6666666666666666,
            "#35b779"
           ],
           [
            0.7777777777777778,
            "#6ece58"
           ],
           [
            0.8888888888888888,
            "#b5de2b"
           ],
           [
            1,
            "#fde725"
           ]
          ],
          "size": {
           "bdata": "AgICAgICAgICAgICAgICAgICAgICAg==",
           "dtype": "i1"
          },
          "symbol": "triangle-down"
         },
         "mode": "markers",
         "name": "Filled Sell Orders",
         "type": "scatter",
         "x": [
          "2023-01-01T11:00:00.000000000",
          "2023-01-01T11:15:00.000000000",
          "2023-01-01T11:30:00.000000000",
          "2023-01-01T11:45:00.000000000",
          "2023-01-01T12:00:00.000000000",
          "2023-01-01T12:15:00.000000000",
          "2023-01-01T12:30:00.000000000",
          "2023-01-01T12:45:00.000000000",
          "2023-01-01T13:00:00.000000000",
          "2023-01-01T13:15:00.000000000",
          "2023-01-01T13:30:00.000000000",
          "2023-01-01T13:45:00.000000000",
          "2023-01-01T14:00:00.000000000",
          "2023-01-01T14:15:00.000000000",
          "2023-01-01T14:30:00.000000000",
          "2023-01-01T14:45:00.000000000",
          "2023-01-01T15:00:00.000000000",
          "2023-01-01T15:15:00.000000000",
          "2023-01-01T15:30:00.000000000",
          "2023-01-01T15:45:00.000000000",
          "2023-01-01T16:00:00.000000000",
          "2023-01-01T16:15:00.000000000"
         ],
         "xaxis": "x4",
         "y": {
          "bdata": "AAAAAAAASUAAAAAAAABJQAAAAAAAAElAAAAAAAAASUAAAAAAAABJQAAAAAAAAElAAAAAAAAASUAAAAAAAABJQAAAAAAAAElAAAAAAAAASUAAAAAAAABJQAAAAAAAAElAAAAAAAAASUAAAAAAAABJQAAAAAAAAElAAAAAAAAASUAAAAAAAABJQAAAAAAAAElAAAAAAAAASUAAAAAAAABJQAAAAAAAAElAAAAAAAAASUA=",
          "dtype": "f8"
         },
         "yaxis": "y4"
        },
        {
         "customdata": [
          [
           "ce452162-a798-4b3d-b44f-09e09447ff11",
           "2023-01-01 15:30",
           1
          ]
         ],
         "hovertemplate": "<b>Sell Order</b><br>Price: %{y:.2f}<br>Contract Time: %{x}<br>Filled: No<br>Strategy: %{customdata[0]}<br>Submission: %{customdata[1]}<br>Quantity: %{customdata[2]}",
         "marker": {
          "color": "rgba(255, 0, 0, 0.5)",
          "line": {
           "color": "black",
           "width": 1
          },
          "size": {
           "bdata": "Ag==",
           "dtype": "i1"
          },
          "symbol": "triangle-down"
         },
         "mode": "markers",
         "name": "Unfilled Sell Orders",
         "type": "scatter",
         "x": [
          "2023-01-01T16:30:00.000000000"
         ],
         "xaxis": "x4",
         "y": {
          "bdata": "AAAAAAAASUA=",
          "dtype": "f8"
         },
         "yaxis": "y4"
        }
       ],
       "layout": {
        "annotations": [
         {
          "font": {
           "size": 16
          },
          "showarrow": false,
          "text": "Strategy Metrics",
          "x": 0.5,
          "xanchor": "center",
          "xref": "paper",
          "y": 1,
          "yanchor": "bottom",
          "yref": "paper"
         },
         {
          "font": {
           "size": 16
          },
          "showarrow": false,
          "text": "Buy Orders - 23d220ec-9ca7-44c8-81b2-91c120c371fa",
          "x": 0.5,
          "xanchor": "center",
          "xref": "paper",
          "y": 0.79,
          "yanchor": "bottom",
          "yref": "paper"
         },
         {
          "font": {
           "size": 16
          },
          "showarrow": false,
          "text": "Sell Orders - 23d220ec-9ca7-44c8-81b2-91c120c371fa",
          "x": 0.5,
          "xanchor": "center",
          "xref": "paper",
          "y": 0.5800000000000001,
          "yanchor": "bottom",
          "yref": "paper"
         },
         {
          "font": {
           "size": 16
          },
          "showarrow": false,
          "text": "Buy Orders - ce452162-a798-4b3d-b44f-09e09447ff11",
          "x": 0.5,
          "xanchor": "center",
          "xref": "paper",
          "y": 0.37,
          "yanchor": "bottom",
          "yref": "paper"
         },
         {
          "font": {
           "size": 16
          },
          "showarrow": false,
          "text": "Sell Orders - ce452162-a798-4b3d-b44f-09e09447ff11",
          "x": 0.5,
          "xanchor": "center",
          "xref": "paper",
          "y": 0.16,
          "yanchor": "bottom",
          "yref": "paper"
         }
        ],
        "height": 1400,
        "showlegend": true,
        "template": {
         "data": {
          "bar": [
           {
            "error_x": {
             "color": "#2a3f5f"
            },
            "error_y": {
             "color": "#2a3f5f"
            },
            "marker": {
             "line": {
              "color": "#E5ECF6",
              "width": 0.5
             },
             "pattern": {
              "fillmode": "overlay",
              "size": 10,
              "solidity": 0.2
             }
            },
            "type": "bar"
           }
          ],
          "barpolar": [
           {
            "marker": {
             "line": {
              "color": "#E5ECF6",
              "width": 0.5
             },
             "pattern": {
              "fillmode": "overlay",
              "size": 10,
              "solidity": 0.2
             }
            },
            "type": "barpolar"
           }
          ],
          "carpet": [
           {
            "aaxis": {
             "endlinecolor": "#2a3f5f",
             "gridcolor": "white",
             "linecolor": "white",
             "minorgridcolor": "white",
             "startlinecolor": "#2a3f5f"
            },
            "baxis": {
             "endlinecolor": "#2a3f5f",
             "gridcolor": "white",
             "linecolor": "white",
             "minorgridcolor": "white",
             "startlinecolor": "#2a3f5f"
            },
            "type": "carpet"
           }
          ],
          "choropleth": [
           {
            "colorbar": {
             "outlinewidth": 0,
             "ticks": ""
            },
            "type": "choropleth"
           }
          ],
          "contour": [
           {
            "colorbar": {
             "outlinewidth": 0,
             "ticks": ""
            },
            "colorscale": [
             [
              0,
              "#0d0887"
             ],
             [
              0.1111111111111111,
              "#46039f"
             ],
             [
              0.2222222222222222,
              "#7201a8"
             ],
             [
              0.3333333333333333,
              "#9c179e"
             ],
             [
              0.4444444444444444,
              "#bd3786"
             ],
             [
              0.5555555555555556,
              "#d8576b"
             ],
             [
              0.6666666666666666,
              "#ed7953"
             ],
             [
              0.7777777777777778,
              "#fb9f3a"
             ],
             [
              0.8888888888888888,
              "#fdca26"
             ],
             [
              1,
              "#f0f921"
             ]
            ],
            "type": "contour"
           }
          ],
          "contourcarpet": [
           {
            "colorbar": {
             "outlinewidth": 0,
             "ticks": ""
            },
            "type": "contourcarpet"
           }
          ],
          "heatmap": [
           {
            "colorbar": {
             "outlinewidth": 0,
             "ticks": ""
            },
            "colorscale": [
             [
              0,
              "#0d0887"
             ],
             [
              0.1111111111111111,
              "#46039f"
             ],
             [
              0.2222222222222222,
              "#7201a8"
             ],
             [
              0.3333333333333333,
              "#9c179e"
             ],
             [
              0.4444444444444444,
              "#bd3786"
             ],
             [
              0.5555555555555556,
              "#d8576b"
             ],
             [
              0.6666666666666666,
              "#ed7953"
             ],
             [
              0.7777777777777778,
              "#fb9f3a"
             ],
             [
              0.8888888888888888,
              "#fdca26"
             ],
             [
              1,
              "#f0f921"
             ]
            ],
            "type": "heatmap"
           }
          ],
          "histogram": [
           {
            "marker": {
             "pattern": {
              "fillmode": "overlay",
              "size": 10,
              "solidity": 0.2
             }
            },
            "type": "histogram"
           }
          ],
          "histogram2d": [
           {
            "colorbar": {
             "outlinewidth": 0,
             "ticks": ""
            },
            "colorscale": [
             [
              0,
              "#0d0887"
             ],
             [
              0.1111111111111111,
              "#46039f"
             ],
             [
              0.2222222222222222,
              "#7201a8"
             ],
             [
              0.3333333333333333,
              "#9c179e"
             ],
             [
              0.4444444444444444,
              "#bd3786"
             ],
             [
              0.5555555555555556,
              "#d8576b"
             ],
             [
              0.6666666666666666,
              "#ed7953"
             ],
             [
              0.7777777777777778,
              "#fb9f3a"
             ],
             [
              0.8888888888888888,
              "#fdca26"
             ],
             [
              1,
              "#f0f921"
             ]
            ],
            "type": "histogram2d"
           }
          ],
          "histogram2dcontour": [
           {
            "colorbar": {
             "outlinewidth": 0,
             "ticks": ""
            },
            "colorscale": [
             [
              0,
              "#0d0887"
             ],
             [
              0.1111111111111111,
              "#46039f"
             ],
             [
              0.2222222222222222,
              "#7201a8"
             ],
             [
              0.3333333333333333,
              "#9c179e"
             ],
             [
              0.4444444444444444,
              "#bd3786"
             ],
             [
              0.5555555555555556,
              "#d8576b"
             ],
             [
              0.6666666666666666,
              "#ed7953"
             ],
             [
              0.7777777777777778,
              "#fb9f3a"
             ],
             [
              0.8888888888888888,
              "#fdca26"
             ],
             [
              1,
              "#f0f921"
             ]
            ],
            "type": "histogram2dcontour"
           }
          ],
          "mesh3d": [
           {
            "colorbar": {
             "outlinewidth": 0,
             "ticks": ""
            },
            "type": "mesh3d"
           }
          ],
          "parcoords": [
           {
            "line": {
             "colorbar": {
              "outlinewidth": 0,
              "ticks": ""
             }
            },
            "type": "parcoords"
           }
          ],
          "pie": [
           {
            "automargin": true,
            "type": "pie"
           }
          ],
          "scatter": [
           {
            "fillpattern": {
             "fillmode": "overlay",
             "size": 10,
             "solidity": 0.2
            },
            "type": "scatter"
           }
          ],
          "scatter3d": [
           {
            "line": {
             "colorbar": {
              "outlinewidth": 0,
              "ticks": ""
             }
            },
            "marker": {
             "colorbar": {
              "outlinewidth": 0,
              "ticks": ""
             }
            },
            "type": "scatter3d"
           }
          ],
          "scattercarpet": [
           {
            "marker": {
             "colorbar": {
              "outlinewidth": 0,
              "ticks": ""
             }
            },
            "type": "scattercarpet"
           }
          ],
          "scattergeo": [
           {
            "marker": {
             "colorbar": {
              "outlinewidth": 0,
              "ticks": ""
             }
            },
            "type": "scattergeo"
           }
          ],
          "scattergl": [
           {
            "marker": {
             "colorbar": {
              "outlinewidth": 0,
              "ticks": ""
             }
            },
            "type": "scattergl"
           }
          ],
          "scattermap": [
           {
            "marker": {
             "colorbar": {
              "outlinewidth": 0,
              "ticks": ""
             }
            },
            "type": "scattermap"
           }
          ],
          "scattermapbox": [
           {
            "marker": {
             "colorbar": {
              "outlinewidth": 0,
              "ticks": ""
             }
            },
            "type": "scattermapbox"
           }
          ],
          "scatterpolar": [
           {
            "marker": {
             "colorbar": {
              "outlinewidth": 0,
              "ticks": ""
             }
            },
            "type": "scatterpolar"
           }
          ],
          "scatterpolargl": [
           {
            "marker": {
             "colorbar": {
              "outlinewidth": 0,
              "ticks": ""
             }
            },
            "type": "scatterpolargl"
           }
          ],
          "scatterternary": [
           {
            "marker": {
             "colorbar": {
              "outlinewidth": 0,
              "ticks": ""
             }
            },
            "type": "scatterternary"
           }
          ],
          "surface": [
           {
            "colorbar": {
             "outlinewidth": 0,
             "ticks": ""
            },
            "colorscale": [
             [
              0,
              "#0d0887"
             ],
             [
              0.1111111111111111,
              "#46039f"
             ],
             [
              0.2222222222222222,
              "#7201a8"
             ],
             [
              0.3333333333333333,
              "#9c179e"
             ],
             [
              0.4444444444444444,
              "#bd3786"
             ],
             [
              0.5555555555555556,
              "#d8576b"
             ],
             [
              0.6666666666666666,
              "#ed7953"
             ],
             [
              0.7777777777777778,
              "#fb9f3a"
             ],
             [
              0.8888888888888888,
              "#fdca26"
             ],
             [
              1,
              "#f0f921"
             ]
            ],
            "type": "surface"
           }
          ],
          "table": [
           {
            "cells": {
             "fill": {
              "color": "#EBF0F8"
             },
             "line": {
              "color": "white"
             }
            },
            "header": {
             "fill": {
              "color": "#C8D4E3"
             },
             "line": {
              "color": "white"
             }
            },
            "type": "table"
           }
          ]
         },
         "layout": {
          "annotationdefaults": {
           "arrowcolor": "#2a3f5f",
           "arrowhead": 0,
           "arrowwidth": 1
          },
          "autotypenumbers": "strict",
          "coloraxis": {
           "colorbar": {
            "outlinewidth": 0,
            "ticks": ""
           }
          },
          "colorscale": {
           "diverging": [
            [
             0,
             "#8e0152"
            ],
            [
             0.1,
             "#c51b7d"
            ],
            [
             0.2,
             "#de77ae"
            ],
            [
             0.3,
             "#f1b6da"
            ],
            [
             0.4,
             "#fde0ef"
            ],
            [
             0.5,
             "#f7f7f7"
            ],
            [
             0.6,
             "#e6f5d0"
            ],
            [
             0.7,
             "#b8e186"
            ],
            [
             0.8,
             "#7fbc41"
            ],
            [
             0.9,
             "#4d9221"
            ],
            [
             1,
             "#276419"
            ]
           ],
           "sequential": [
            [
             0,
             "#0d0887"
            ],
            [
             0.1111111111111111,
             "#46039f"
            ],
            [
             0.2222222222222222,
             "#7201a8"
            ],
            [
             0.3333333333333333,
             "#9c179e"
            ],
            [
             0.4444444444444444,
             "#bd3786"
            ],
            [
             0.5555555555555556,
             "#d8576b"
            ],
            [
             0.6666666666666666,
             "#ed7953"
            ],
            [
             0.7777777777777778,
             "#fb9f3a"
            ],
            [
             0.8888888888888888,
             "#fdca26"
            ],
            [
             1,
             "#f0f921"
            ]
           ],
           "sequentialminus": [
            [
             0,
             "#0d0887"
            ],
            [
             0.1111111111111111,
             "#46039f"
            ],
            [
             0.2222222222222222,
             "#7201a8"
            ],
            [
             0.3333333333333333,
             "#9c179e"
            ],
            [
             0.4444444444444444,
             "#bd3786"
            ],
            [
             0.5555555555555556,
             "#d8576b"
            ],
            [
             0.6666666666666666,
             "#ed7953"
            ],
            [
             0.7777777777777778,
             "#fb9f3a"
            ],
            [
             0.8888888888888888,
             "#fdca26"
            ],
            [
             1,
             "#f0f921"
            ]
           ]
          },
          "colorway": [
           "#636efa",
           "#EF553B",
           "#00cc96",
           "#ab63fa",
           "#FFA15A",
           "#19d3f3",
           "#FF6692",
           "#B6E880",
           "#FF97FF",
           "#FECB52"
          ],
          "font": {
           "color": "#2a3f5f"
          },
          "geo": {
           "bgcolor": "white",
           "lakecolor": "white",
           "landcolor": "#E5ECF6",
           "showlakes": true,
           "showland": true,
           "subunitcolor": "white"
          },
          "hoverlabel": {
           "align": "left"
          },
          "hovermode": "closest",
          "mapbox": {
           "style": "light"
          },
          "paper_bgcolor": "white",
          "plot_bgcolor": "#E5ECF6",
          "polar": {
           "angularaxis": {
            "gridcolor": "white",
            "linecolor": "white",
            "ticks": ""
           },
           "bgcolor": "#E5ECF6",
           "radialaxis": {
            "gridcolor": "white",
            "linecolor": "white",
            "ticks": ""
           }
          },
          "scene": {
           "xaxis": {
            "backgroundcolor": "#E5ECF6",
            "gridcolor": "white",
            "gridwidth": 2,
            "linecolor": "white",
            "showbackground": true,
            "ticks": "",
            "zerolinecolor": "white"
           },
           "yaxis": {
            "backgroundcolor": "#E5ECF6",
            "gridcolor": "white",
            "gridwidth": 2,
            "linecolor": "white",
            "showbackground": true,
            "ticks": "",
            "zerolinecolor": "white"
           },
           "zaxis": {
            "backgroundcolor": "#E5ECF6",
            "gridcolor": "white",
            "gridwidth": 2,
            "linecolor": "white",
            "showbackground": true,
            "ticks": "",
            "zerolinecolor": "white"
           }
          },
          "shapedefaults": {
           "line": {
            "color": "#2a3f5f"
           }
          },
          "ternary": {
           "aaxis": {
            "gridcolor": "white",
            "linecolor": "white",
            "ticks": ""
           },
           "baxis": {
            "gridcolor": "white",
            "linecolor": "white",
            "ticks": ""
           },
           "bgcolor": "#E5ECF6",
           "caxis": {
            "gridcolor": "white",
            "linecolor": "white",
            "ticks": ""
           }
          },
          "title": {
           "x": 0.05
          },
          "xaxis": {
           "automargin": true,
           "gridcolor": "white",
           "linecolor": "white",
           "ticks": "",
           "title": {
            "standoff": 15
           },
           "zerolinecolor": "white",
           "zerolinewidth": 2
          },
          "yaxis": {
           "automargin": true,
           "gridcolor": "white",
           "linecolor": "white",
           "ticks": "",
           "title": {
            "standoff": 15
           },
           "zerolinecolor": "white",
           "zerolinewidth": 2
          }
         }
        },
        "title": {
         "text": "Trading Simulation Results by Strategy"
        },
        "xaxis": {
         "anchor": "y",
         "domain": [
          0,
          1
         ],
         "title": {
          "text": "Contract Time"
         }
        },
        "xaxis2": {
         "anchor": "y2",
         "domain": [
          0,
          1
         ],
         "title": {
          "text": "Contract Time"
         }
        },
        "xaxis3": {
         "anchor": "y3",
         "domain": [
          0,
          1
         ],
         "title": {
          "text": "Contract Time"
         }
        },
        "xaxis4": {
         "anchor": "y4",
         "domain": [
          0,
          1
         ],
         "title": {
          "text": "Contract Time"
         }
        },
        "yaxis": {
         "anchor": "x",
         "domain": [
          0.63,
          0.79
         ],
         "title": {
          "text": "Price"
         }
        },
        "yaxis2": {
         "anchor": "x2",
         "domain": [
          0.42000000000000004,
          0.5800000000000001
         ],
         "title": {
          "text": "Price"
         }
        },
        "yaxis3": {
         "anchor": "x3",
         "domain": [
          0.21000000000000002,
          0.37
         ],
         "title": {
          "text": "Price"
         }
        },
        "yaxis4": {
         "anchor": "x4",
         "domain": [
          0,
          0.16
         ],
         "title": {
          "text": "Price"
         }
        }
       }
      }
     },
     "metadata": {},
     "output_type": "display_data"
    },
    {
     "data": {
      "application/vnd.plotly.v1+json": {
       "config": {
        "plotlyServerURL": "https://plot.ly"
       },
       "data": [],
       "layout": {
        "template": {
         "data": {
          "bar": [
           {
            "error_x": {
             "color": "#2a3f5f"
            },
            "error_y": {
             "color": "#2a3f5f"
            },
            "marker": {
             "line": {
              "color": "#E5ECF6",
              "width": 0.5
             },
             "pattern": {
              "fillmode": "overlay",
              "size": 10,
              "solidity": 0.2
             }
            },
            "type": "bar"
           }
          ],
          "barpolar": [
           {
            "marker": {
             "line": {
              "color": "#E5ECF6",
              "width": 0.5
             },
             "pattern": {
              "fillmode": "overlay",
              "size": 10,
              "solidity": 0.2
             }
            },
            "type": "barpolar"
           }
          ],
          "carpet": [
           {
            "aaxis": {
             "endlinecolor": "#2a3f5f",
             "gridcolor": "white",
             "linecolor": "white",
             "minorgridcolor": "white",
             "startlinecolor": "#2a3f5f"
            },
            "baxis": {
             "endlinecolor": "#2a3f5f",
             "gridcolor": "white",
             "linecolor": "white",
             "minorgridcolor": "white",
             "startlinecolor": "#2a3f5f"
            },
            "type": "carpet"
           }
          ],
          "choropleth": [
           {
            "colorbar": {
             "outlinewidth": 0,
             "ticks": ""
            },
            "type": "choropleth"
           }
          ],
          "contour": [
           {
            "colorbar": {
             "outlinewidth": 0,
             "ticks": ""
            },
            "colorscale": [
             [
              0,
              "#0d0887"
             ],
             [
              0.1111111111111111,
              "#46039f"
             ],
             [
              0.2222222222222222,
              "#7201a8"
             ],
             [
              0.3333333333333333,
              "#9c179e"
             ],
             [
              0.4444444444444444,
              "#bd3786"
             ],
             [
              0.5555555555555556,
              "#d8576b"
             ],
             [
              0.6666666666666666,
              "#ed7953"
             ],
             [
              0.7777777777777778,
              "#fb9f3a"
             ],
             [
              0.8888888888888888,
              "#fdca26"
             ],
             [
              1,
              "#f0f921"
             ]
            ],
            "type": "contour"
           }
          ],
          "contourcarpet": [
           {
            "colorbar": {
             "outlinewidth": 0,
             "ticks": ""
            },
            "type": "contourcarpet"
           }
          ],
          "heatmap": [
           {
            "colorbar": {
             "outlinewidth": 0,
             "ticks": ""
            },
            "colorscale": [
             [
              0,
              "#0d0887"
             ],
             [
              0.1111111111111111,
              "#46039f"
             ],
             [
              0.2222222222222222,
              "#7201a8"
             ],
             [
              0.3333333333333333,
              "#9c179e"
             ],
             [
              0.4444444444444444,
              "#bd3786"
             ],
             [
              0.5555555555555556,
              "#d8576b"
             ],
             [
              0.6666666666666666,
              "#ed7953"
             ],
             [
              0.7777777777777778,
              "#fb9f3a"
             ],
             [
              0.8888888888888888,
              "#fdca26"
             ],
             [
              1,
              "#f0f921"
             ]
            ],
            "type": "heatmap"
           }
          ],
          "histogram": [
           {
            "marker": {
             "pattern": {
              "fillmode": "overlay",
              "size": 10,
              "solidity": 0.2
             }
            },
            "type": "histogram"
           }
          ],
          "histogram2d": [
           {
            "colorbar": {
             "outlinewidth": 0,
             "ticks": ""
            },
            "colorscale": [
             [
              0,
              "#0d0887"
             ],
             [
              0.1111111111111111,
              "#46039f"
             ],
             [
              0.2222222222222222,
              "#7201a8"
             ],
             [
              0.3333333333333333,
              "#9c179e"
             ],
             [
              0.4444444444444444,
              "#bd3786"
             ],
             [
              0.5555555555555556,
              "#d8576b"
             ],
             [
              0.6666666666666666,
              "#ed7953"
             ],
             [
              0.7777777777777778,
              "#fb9f3a"
             ],
             [
              0.8888888888888888,
              "#fdca26"
             ],
             [
              1,
              "#f0f921"
             ]
            ],
            "type": "histogram2d"
           }
          ],
          "histogram2dcontour": [
           {
            "colorbar": {
             "outlinewidth": 0,
             "ticks": ""
            },
            "colorscale": [
             [
              0,
              "#0d0887"
             ],
             [
              0.1111111111111111,
              "#46039f"
             ],
             [
              0.2222222222222222,
              "#7201a8"
             ],
             [
              0.3333333333333333,
              "#9c179e"
             ],
             [
              0.4444444444444444,
              "#bd3786"
             ],
             [
              0.5555555555555556,
              "#d8576b"
             ],
             [
              0.6666666666666666,
              "#ed7953"
             ],
             [
              0.7777777777777778,
              "#fb9f3a"
             ],
             [
              0.8888888888888888,
              "#fdca26"
             ],
             [
              1,
              "#f0f921"
             ]
            ],
            "type": "histogram2dcontour"
           }
          ],
          "mesh3d": [
           {
            "colorbar": {
             "outlinewidth": 0,
             "ticks": ""
            },
            "type": "mesh3d"
           }
          ],
          "parcoords": [
           {
            "line": {
             "colorbar": {
              "outlinewidth": 0,
              "ticks": ""
             }
            },
            "type": "parcoords"
           }
          ],
          "pie": [
           {
            "automargin": true,
            "type": "pie"
           }
          ],
          "scatter": [
           {
            "fillpattern": {
             "fillmode": "overlay",
             "size": 10,
             "solidity": 0.2
            },
            "type": "scatter"
           }
          ],
          "scatter3d": [
           {
            "line": {
             "colorbar": {
              "outlinewidth": 0,
              "ticks": ""
             }
            },
            "marker": {
             "colorbar": {
              "outlinewidth": 0,
              "ticks": ""
             }
            },
            "type": "scatter3d"
           }
          ],
          "scattercarpet": [
           {
            "marker": {
             "colorbar": {
              "outlinewidth": 0,
              "ticks": ""
             }
            },
            "type": "scattercarpet"
           }
          ],
          "scattergeo": [
           {
            "marker": {
             "colorbar": {
              "outlinewidth": 0,
              "ticks": ""
             }
            },
            "type": "scattergeo"
           }
          ],
          "scattergl": [
           {
            "marker": {
             "colorbar": {
              "outlinewidth": 0,
              "ticks": ""
             }
            },
            "type": "scattergl"
           }
          ],
          "scattermap": [
           {
            "marker": {
             "colorbar": {
              "outlinewidth": 0,
              "ticks": ""
             }
            },
            "type": "scattermap"
           }
          ],
          "scattermapbox": [
           {
            "marker": {
             "colorbar": {
              "outlinewidth": 0,
              "ticks": ""
             }
            },
            "type": "scattermapbox"
           }
          ],
          "scatterpolar": [
           {
            "marker": {
             "colorbar": {
              "outlinewidth": 0,
              "ticks": ""
             }
            },
            "type": "scatterpolar"
           }
          ],
          "scatterpolargl": [
           {
            "marker": {
             "colorbar": {
              "outlinewidth": 0,
              "ticks": ""
             }
            },
            "type": "scatterpolargl"
           }
          ],
          "scatterternary": [
           {
            "marker": {
             "colorbar": {
              "outlinewidth": 0,
              "ticks": ""
             }
            },
            "type": "scatterternary"
           }
          ],
          "surface": [
           {
            "colorbar": {
             "outlinewidth": 0,
             "ticks": ""
            },
            "colorscale": [
             [
              0,
              "#0d0887"
             ],
             [
              0.1111111111111111,
              "#46039f"
             ],
             [
              0.2222222222222222,
              "#7201a8"
             ],
             [
              0.3333333333333333,
              "#9c179e"
             ],
             [
              0.4444444444444444,
              "#bd3786"
             ],
             [
              0.5555555555555556,
              "#d8576b"
             ],
             [
              0.6666666666666666,
              "#ed7953"
             ],
             [
              0.7777777777777778,
              "#fb9f3a"
             ],
             [
              0.8888888888888888,
              "#fdca26"
             ],
             [
              1,
              "#f0f921"
             ]
            ],
            "type": "surface"
           }
          ],
          "table": [
           {
            "cells": {
             "fill": {
              "color": "#EBF0F8"
             },
             "line": {
              "color": "white"
             }
            },
            "header": {
             "fill": {
              "color": "#C8D4E3"
             },
             "line": {
              "color": "white"
             }
            },
            "type": "table"
           }
          ]
         },
         "layout": {
          "annotationdefaults": {
           "arrowcolor": "#2a3f5f",
           "arrowhead": 0,
           "arrowwidth": 1
          },
          "autotypenumbers": "strict",
          "coloraxis": {
           "colorbar": {
            "outlinewidth": 0,
            "ticks": ""
           }
          },
          "colorscale": {
           "diverging": [
            [
             0,
             "#8e0152"
            ],
            [
             0.1,
             "#c51b7d"
            ],
            [
             0.2,
             "#de77ae"
            ],
            [
             0.3,
             "#f1b6da"
            ],
            [
             0.4,
             "#fde0ef"
            ],
            [
             0.5,
             "#f7f7f7"
            ],
            [
             0.6,
             "#e6f5d0"
            ],
            [
             0.7,
             "#b8e186"
            ],
            [
             0.8,
             "#7fbc41"
            ],
            [
             0.9,
             "#4d9221"
            ],
            [
             1,
             "#276419"
            ]
           ],
           "sequential": [
            [
             0,
             "#0d0887"
            ],
            [
             0.1111111111111111,
             "#46039f"
            ],
            [
             0.2222222222222222,
             "#7201a8"
            ],
            [
             0.3333333333333333,
             "#9c179e"
            ],
            [
             0.4444444444444444,
             "#bd3786"
            ],
            [
             0.5555555555555556,
             "#d8576b"
            ],
            [
             0.6666666666666666,
             "#ed7953"
            ],
            [
             0.7777777777777778,
             "#fb9f3a"
            ],
            [
             0.8888888888888888,
             "#fdca26"
            ],
            [
             1,
             "#f0f921"
            ]
           ],
           "sequentialminus": [
            [
             0,
             "#0d0887"
            ],
            [
             0.1111111111111111,
             "#46039f"
            ],
            [
             0.2222222222222222,
             "#7201a8"
            ],
            [
             0.3333333333333333,
             "#9c179e"
            ],
            [
             0.4444444444444444,
             "#bd3786"
            ],
            [
             0.5555555555555556,
             "#d8576b"
            ],
            [
             0.6666666666666666,
             "#ed7953"
            ],
            [
             0.7777777777777778,
             "#fb9f3a"
            ],
            [
             0.8888888888888888,
             "#fdca26"
            ],
            [
             1,
             "#f0f921"
            ]
           ]
          },
          "colorway": [
           "#636efa",
           "#EF553B",
           "#00cc96",
           "#ab63fa",
           "#FFA15A",
           "#19d3f3",
           "#FF6692",
           "#B6E880",
           "#FF97FF",
           "#FECB52"
          ],
          "font": {
           "color": "#2a3f5f"
          },
          "geo": {
           "bgcolor": "white",
           "lakecolor": "white",
           "landcolor": "#E5ECF6",
           "showlakes": true,
           "showland": true,
           "subunitcolor": "white"
          },
          "hoverlabel": {
           "align": "left"
          },
          "hovermode": "closest",
          "mapbox": {
           "style": "light"
          },
          "paper_bgcolor": "white",
          "plot_bgcolor": "#E5ECF6",
          "polar": {
           "angularaxis": {
            "gridcolor": "white",
            "linecolor": "white",
            "ticks": ""
           },
           "bgcolor": "#E5ECF6",
           "radialaxis": {
            "gridcolor": "white",
            "linecolor": "white",
            "ticks": ""
           }
          },
          "scene": {
           "xaxis": {
            "backgroundcolor": "#E5ECF6",
            "gridcolor": "white",
            "gridwidth": 2,
            "linecolor": "white",
            "showbackground": true,
            "ticks": "",
            "zerolinecolor": "white"
           },
           "yaxis": {
            "backgroundcolor": "#E5ECF6",
            "gridcolor": "white",
            "gridwidth": 2,
            "linecolor": "white",
            "showbackground": true,
            "ticks": "",
            "zerolinecolor": "white"
           },
           "zaxis": {
            "backgroundcolor": "#E5ECF6",
            "gridcolor": "white",
            "gridwidth": 2,
            "linecolor": "white",
            "showbackground": true,
            "ticks": "",
            "zerolinecolor": "white"
           }
          },
          "shapedefaults": {
           "line": {
            "color": "#2a3f5f"
           }
          },
          "ternary": {
           "aaxis": {
            "gridcolor": "white",
            "linecolor": "white",
            "ticks": ""
           },
           "baxis": {
            "gridcolor": "white",
            "linecolor": "white",
            "ticks": ""
           },
           "bgcolor": "#E5ECF6",
           "caxis": {
            "gridcolor": "white",
            "linecolor": "white",
            "ticks": ""
           }
          },
          "title": {
           "x": 0.05
          },
          "xaxis": {
           "automargin": true,
           "gridcolor": "white",
           "linecolor": "white",
           "ticks": "",
           "title": {
            "standoff": 15
           },
           "zerolinecolor": "white",
           "zerolinewidth": 2
          },
          "yaxis": {
           "automargin": true,
           "gridcolor": "white",
           "linecolor": "white",
           "ticks": "",
           "title": {
            "standoff": 15
           },
           "zerolinecolor": "white",
           "zerolinewidth": 2
          }
         }
        },
        "title": {
         "text": "No buy orders available"
        },
        "xaxis": {
         "title": {
          "text": "Contract Time"
         }
        },
        "yaxis": {
         "title": {
          "text": "Price"
         }
        }
       }
      }
     },
     "metadata": {},
     "output_type": "display_data"
    },
    {
     "data": {
      "application/vnd.plotly.v1+json": {
       "config": {
        "plotlyServerURL": "https://plot.ly"
       },
       "data": [
        {
         "customdata": [
          [
           "ce452162-a798-4b3d-b44f-09e09447ff11",
           "2023-01-01 10:00",
           0,
           1
          ],
          [
           "ce452162-a798-4b3d-b44f-09e09447ff11",
           "2023-01-01 10:15",
           0,
           1
          ],
          [
           "ce452162-a798-4b3d-b44f-09e09447ff11",
           "2023-01-01 10:30",
           0,
           1
          ],
          [
           "ce452162-a798-4b3d-b44f-09e09447ff11",
           "2023-01-01 10:45",
           0,
           1
          ],
          [
           "ce452162-a798-4b3d-b44f-09e09447ff11",
           "2023-01-01 11:00",
           0,
           1
          ],
          [
           "ce452162-a798-4b3d-b44f-09e09447ff11",
           "2023-01-01 11:15",
           0,
           1
          ],
          [
           "ce452162-a798-4b3d-b44f-09e09447ff11",
           "2023-01-01 11:30",
           0,
           1
          ],
          [
           "ce452162-a798-4b3d-b44f-09e09447ff11",
           "2023-01-01 11:45",
           0,
           1
          ],
          [
           "ce452162-a798-4b3d-b44f-09e09447ff11",
           "2023-01-01 12:00",
           0,
           1
          ],
          [
           "ce452162-a798-4b3d-b44f-09e09447ff11",
           "2023-01-01 12:15",
           0,
           1
          ],
          [
           "ce452162-a798-4b3d-b44f-09e09447ff11",
           "2023-01-01 12:30",
           0,
           1
          ],
          [
           "ce452162-a798-4b3d-b44f-09e09447ff11",
           "2023-01-01 12:45",
           0,
           1
          ],
          [
           "ce452162-a798-4b3d-b44f-09e09447ff11",
           "2023-01-01 13:00",
           0,
           1
          ],
          [
           "ce452162-a798-4b3d-b44f-09e09447ff11",
           "2023-01-01 13:15",
           0,
           1
          ],
          [
           "ce452162-a798-4b3d-b44f-09e09447ff11",
           "2023-01-01 13:30",
           0,
           1
          ],
          [
           "ce452162-a798-4b3d-b44f-09e09447ff11",
           "2023-01-01 13:45",
           0,
           1
          ],
          [
           "ce452162-a798-4b3d-b44f-09e09447ff11",
           "2023-01-01 14:00",
           0,
           1
          ],
          [
           "ce452162-a798-4b3d-b44f-09e09447ff11",
           "2023-01-01 14:15",
           0,
           1
          ],
          [
           "ce452162-a798-4b3d-b44f-09e09447ff11",
           "2023-01-01 14:30",
           0,
           1
          ],
          [
           "ce452162-a798-4b3d-b44f-09e09447ff11",
           "2023-01-01 14:45",
           0,
           1
          ],
          [
           "ce452162-a798-4b3d-b44f-09e09447ff11",
           "2023-01-01 15:00",
           0,
           1
          ],
          [
           "ce452162-a798-4b3d-b44f-09e09447ff11",
           "2023-01-01 15:15",
           0,
           1
          ]
         ],
         "hovertemplate": "<b>Sell Order</b><br>Price: %{y:.2f}<br>Contract Time: %{x}<br>Filled: Yes<br>Strategy: %{customdata[0]}<br>Submission: %{customdata[1]}<br>Time to Fill: %{customdata[2]:.0f} sec<br>Quantity: %{customdata[3]}",
         "marker": {
          "color": {
           "bdata": "AAAAAAAAAAAAAAAAAAAAAAAAAAAAAAAAAAAAAAAAAAAAAAAAAAAAAAAAAAAAAAAAAAAAAAAAAAAAAAAAAAAAAAAAAAAAAAAAAAAAAAAAAAAAAAAAAAAAAAAAAAAAAAAAAAAAAAAAAAAAAAAAAAAAAAAAAAAAAAAAAAAAAAAAAAAAAAAAAAAAAAAAAAAAAAAAAAAAAAAAAAAAAAAAAAAAAAAAAAAAAAAAAAAAAAAAAAA=",
           "dtype": "f8"
          },
          "colorbar": {
           "title": {
            "text": "Seconds to Fill"
           }
          },
          "colorscale": [
           [
            0,
            "#440154"
           ],
           [
            0.1111111111111111,
            "#482878"
           ],
           [
            0.2222222222222222,
            "#3e4989"
           ],
           [
            0.3333333333333333,
            "#31688e"
           ],
           [
            0.4444444444444444,
            "#26828e"
           ],
           [
            0.5555555555555556,
            "#1f9e89"
           ],
           [
            0.6666666666666666,
            "#35b779"
           ],
           [
            0.7777777777777778,
            "#6ece58"
           ],
           [
            0.8888888888888888,
            "#b5de2b"
           ],
           [
            1,
            "#fde725"
           ]
          ],
          "size": {
           "bdata": "AgICAgICAgICAgICAgICAgICAgICAg==",
           "dtype": "i1"
          },
          "symbol": "triangle-down"
         },
         "mode": "markers",
         "name": "Filled Sell Orders",
         "type": "scatter",
         "x": [
          "2023-01-01T11:00:00.000000000",
          "2023-01-01T11:15:00.000000000",
          "2023-01-01T11:30:00.000000000",
          "2023-01-01T11:45:00.000000000",
          "2023-01-01T12:00:00.000000000",
          "2023-01-01T12:15:00.000000000",
          "2023-01-01T12:30:00.000000000",
          "2023-01-01T12:45:00.000000000",
          "2023-01-01T13:00:00.000000000",
          "2023-01-01T13:15:00.000000000",
          "2023-01-01T13:30:00.000000000",
          "2023-01-01T13:45:00.000000000",
          "2023-01-01T14:00:00.000000000",
          "2023-01-01T14:15:00.000000000",
          "2023-01-01T14:30:00.000000000",
          "2023-01-01T14:45:00.000000000",
          "2023-01-01T15:00:00.000000000",
          "2023-01-01T15:15:00.000000000",
          "2023-01-01T15:30:00.000000000",
          "2023-01-01T15:45:00.000000000",
          "2023-01-01T16:00:00.000000000",
          "2023-01-01T16:15:00.000000000"
         ],
         "y": {
          "bdata": "AAAAAAAASUAAAAAAAABJQAAAAAAAAElAAAAAAAAASUAAAAAAAABJQAAAAAAAAElAAAAAAAAASUAAAAAAAABJQAAAAAAAAElAAAAAAAAASUAAAAAAAABJQAAAAAAAAElAAAAAAAAASUAAAAAAAABJQAAAAAAAAElAAAAAAAAASUAAAAAAAABJQAAAAAAAAElAAAAAAAAASUAAAAAAAABJQAAAAAAAAElAAAAAAAAASUA=",
          "dtype": "f8"
         }
        },
        {
         "customdata": [
          [
           "ce452162-a798-4b3d-b44f-09e09447ff11",
           "2023-01-01 15:30",
           1
          ]
         ],
         "hovertemplate": "<b>Sell Order</b><br>Price: %{y:.2f}<br>Contract Time: %{x}<br>Filled: No<br>Strategy: %{customdata[0]}<br>Submission: %{customdata[1]}<br>Quantity: %{customdata[2]}",
         "marker": {
          "color": "rgba(255, 0, 0, 0.5)",
          "line": {
           "color": "black",
           "width": 1
          },
          "size": {
           "bdata": "Ag==",
           "dtype": "i1"
          },
          "symbol": "triangle-down"
         },
         "mode": "markers",
         "name": "Unfilled Sell Orders",
         "type": "scatter",
         "x": [
          "2023-01-01T16:30:00.000000000"
         ],
         "y": {
          "bdata": "AAAAAAAASUA=",
          "dtype": "f8"
         }
        }
       ],
       "layout": {
        "hovermode": "closest",
        "legend": {
         "title": {
          "text": "Order Status"
         }
        },
        "template": {
         "data": {
          "bar": [
           {
            "error_x": {
             "color": "#2a3f5f"
            },
            "error_y": {
             "color": "#2a3f5f"
            },
            "marker": {
             "line": {
              "color": "#E5ECF6",
              "width": 0.5
             },
             "pattern": {
              "fillmode": "overlay",
              "size": 10,
              "solidity": 0.2
             }
            },
            "type": "bar"
           }
          ],
          "barpolar": [
           {
            "marker": {
             "line": {
              "color": "#E5ECF6",
              "width": 0.5
             },
             "pattern": {
              "fillmode": "overlay",
              "size": 10,
              "solidity": 0.2
             }
            },
            "type": "barpolar"
           }
          ],
          "carpet": [
           {
            "aaxis": {
             "endlinecolor": "#2a3f5f",
             "gridcolor": "white",
             "linecolor": "white",
             "minorgridcolor": "white",
             "startlinecolor": "#2a3f5f"
            },
            "baxis": {
             "endlinecolor": "#2a3f5f",
             "gridcolor": "white",
             "linecolor": "white",
             "minorgridcolor": "white",
             "startlinecolor": "#2a3f5f"
            },
            "type": "carpet"
           }
          ],
          "choropleth": [
           {
            "colorbar": {
             "outlinewidth": 0,
             "ticks": ""
            },
            "type": "choropleth"
           }
          ],
          "contour": [
           {
            "colorbar": {
             "outlinewidth": 0,
             "ticks": ""
            },
            "colorscale": [
             [
              0,
              "#0d0887"
             ],
             [
              0.1111111111111111,
              "#46039f"
             ],
             [
              0.2222222222222222,
              "#7201a8"
             ],
             [
              0.3333333333333333,
              "#9c179e"
             ],
             [
              0.4444444444444444,
              "#bd3786"
             ],
             [
              0.5555555555555556,
              "#d8576b"
             ],
             [
              0.6666666666666666,
              "#ed7953"
             ],
             [
              0.7777777777777778,
              "#fb9f3a"
             ],
             [
              0.8888888888888888,
              "#fdca26"
             ],
             [
              1,
              "#f0f921"
             ]
            ],
            "type": "contour"
           }
          ],
          "contourcarpet": [
           {
            "colorbar": {
             "outlinewidth": 0,
             "ticks": ""
            },
            "type": "contourcarpet"
           }
          ],
          "heatmap": [
           {
            "colorbar": {
             "outlinewidth": 0,
             "ticks": ""
            },
            "colorscale": [
             [
              0,
              "#0d0887"
             ],
             [
              0.1111111111111111,
              "#46039f"
             ],
             [
              0.2222222222222222,
              "#7201a8"
             ],
             [
              0.3333333333333333,
              "#9c179e"
             ],
             [
              0.4444444444444444,
              "#bd3786"
             ],
             [
              0.5555555555555556,
              "#d8576b"
             ],
             [
              0.6666666666666666,
              "#ed7953"
             ],
             [
              0.7777777777777778,
              "#fb9f3a"
             ],
             [
              0.8888888888888888,
              "#fdca26"
             ],
             [
              1,
              "#f0f921"
             ]
            ],
            "type": "heatmap"
           }
          ],
          "histogram": [
           {
            "marker": {
             "pattern": {
              "fillmode": "overlay",
              "size": 10,
              "solidity": 0.2
             }
            },
            "type": "histogram"
           }
          ],
          "histogram2d": [
           {
            "colorbar": {
             "outlinewidth": 0,
             "ticks": ""
            },
            "colorscale": [
             [
              0,
              "#0d0887"
             ],
             [
              0.1111111111111111,
              "#46039f"
             ],
             [
              0.2222222222222222,
              "#7201a8"
             ],
             [
              0.3333333333333333,
              "#9c179e"
             ],
             [
              0.4444444444444444,
              "#bd3786"
             ],
             [
              0.5555555555555556,
              "#d8576b"
             ],
             [
              0.6666666666666666,
              "#ed7953"
             ],
             [
              0.7777777777777778,
              "#fb9f3a"
             ],
             [
              0.8888888888888888,
              "#fdca26"
             ],
             [
              1,
              "#f0f921"
             ]
            ],
            "type": "histogram2d"
           }
          ],
          "histogram2dcontour": [
           {
            "colorbar": {
             "outlinewidth": 0,
             "ticks": ""
            },
            "colorscale": [
             [
              0,
              "#0d0887"
             ],
             [
              0.1111111111111111,
              "#46039f"
             ],
             [
              0.2222222222222222,
              "#7201a8"
             ],
             [
              0.3333333333333333,
              "#9c179e"
             ],
             [
              0.4444444444444444,
              "#bd3786"
             ],
             [
              0.5555555555555556,
              "#d8576b"
             ],
             [
              0.6666666666666666,
              "#ed7953"
             ],
             [
              0.7777777777777778,
              "#fb9f3a"
             ],
             [
              0.8888888888888888,
              "#fdca26"
             ],
             [
              1,
              "#f0f921"
             ]
            ],
            "type": "histogram2dcontour"
           }
          ],
          "mesh3d": [
           {
            "colorbar": {
             "outlinewidth": 0,
             "ticks": ""
            },
            "type": "mesh3d"
           }
          ],
          "parcoords": [
           {
            "line": {
             "colorbar": {
              "outlinewidth": 0,
              "ticks": ""
             }
            },
            "type": "parcoords"
           }
          ],
          "pie": [
           {
            "automargin": true,
            "type": "pie"
           }
          ],
          "scatter": [
           {
            "fillpattern": {
             "fillmode": "overlay",
             "size": 10,
             "solidity": 0.2
            },
            "type": "scatter"
           }
          ],
          "scatter3d": [
           {
            "line": {
             "colorbar": {
              "outlinewidth": 0,
              "ticks": ""
             }
            },
            "marker": {
             "colorbar": {
              "outlinewidth": 0,
              "ticks": ""
             }
            },
            "type": "scatter3d"
           }
          ],
          "scattercarpet": [
           {
            "marker": {
             "colorbar": {
              "outlinewidth": 0,
              "ticks": ""
             }
            },
            "type": "scattercarpet"
           }
          ],
          "scattergeo": [
           {
            "marker": {
             "colorbar": {
              "outlinewidth": 0,
              "ticks": ""
             }
            },
            "type": "scattergeo"
           }
          ],
          "scattergl": [
           {
            "marker": {
             "colorbar": {
              "outlinewidth": 0,
              "ticks": ""
             }
            },
            "type": "scattergl"
           }
          ],
          "scattermap": [
           {
            "marker": {
             "colorbar": {
              "outlinewidth": 0,
              "ticks": ""
             }
            },
            "type": "scattermap"
           }
          ],
          "scattermapbox": [
           {
            "marker": {
             "colorbar": {
              "outlinewidth": 0,
              "ticks": ""
             }
            },
            "type": "scattermapbox"
           }
          ],
          "scatterpolar": [
           {
            "marker": {
             "colorbar": {
              "outlinewidth": 0,
              "ticks": ""
             }
            },
            "type": "scatterpolar"
           }
          ],
          "scatterpolargl": [
           {
            "marker": {
             "colorbar": {
              "outlinewidth": 0,
              "ticks": ""
             }
            },
            "type": "scatterpolargl"
           }
          ],
          "scatterternary": [
           {
            "marker": {
             "colorbar": {
              "outlinewidth": 0,
              "ticks": ""
             }
            },
            "type": "scatterternary"
           }
          ],
          "surface": [
           {
            "colorbar": {
             "outlinewidth": 0,
             "ticks": ""
            },
            "colorscale": [
             [
              0,
              "#0d0887"
             ],
             [
              0.1111111111111111,
              "#46039f"
             ],
             [
              0.2222222222222222,
              "#7201a8"
             ],
             [
              0.3333333333333333,
              "#9c179e"
             ],
             [
              0.4444444444444444,
              "#bd3786"
             ],
             [
              0.5555555555555556,
              "#d8576b"
             ],
             [
              0.6666666666666666,
              "#ed7953"
             ],
             [
              0.7777777777777778,
              "#fb9f3a"
             ],
             [
              0.8888888888888888,
              "#fdca26"
             ],
             [
              1,
              "#f0f921"
             ]
            ],
            "type": "surface"
           }
          ],
          "table": [
           {
            "cells": {
             "fill": {
              "color": "#EBF0F8"
             },
             "line": {
              "color": "white"
             }
            },
            "header": {
             "fill": {
              "color": "#C8D4E3"
             },
             "line": {
              "color": "white"
             }
            },
            "type": "table"
           }
          ]
         },
         "layout": {
          "annotationdefaults": {
           "arrowcolor": "#2a3f5f",
           "arrowhead": 0,
           "arrowwidth": 1
          },
          "autotypenumbers": "strict",
          "coloraxis": {
           "colorbar": {
            "outlinewidth": 0,
            "ticks": ""
           }
          },
          "colorscale": {
           "diverging": [
            [
             0,
             "#8e0152"
            ],
            [
             0.1,
             "#c51b7d"
            ],
            [
             0.2,
             "#de77ae"
            ],
            [
             0.3,
             "#f1b6da"
            ],
            [
             0.4,
             "#fde0ef"
            ],
            [
             0.5,
             "#f7f7f7"
            ],
            [
             0.6,
             "#e6f5d0"
            ],
            [
             0.7,
             "#b8e186"
            ],
            [
             0.8,
             "#7fbc41"
            ],
            [
             0.9,
             "#4d9221"
            ],
            [
             1,
             "#276419"
            ]
           ],
           "sequential": [
            [
             0,
             "#0d0887"
            ],
            [
             0.1111111111111111,
             "#46039f"
            ],
            [
             0.2222222222222222,
             "#7201a8"
            ],
            [
             0.3333333333333333,
             "#9c179e"
            ],
            [
             0.4444444444444444,
             "#bd3786"
            ],
            [
             0.5555555555555556,
             "#d8576b"
            ],
            [
             0.6666666666666666,
             "#ed7953"
            ],
            [
             0.7777777777777778,
             "#fb9f3a"
            ],
            [
             0.8888888888888888,
             "#fdca26"
            ],
            [
             1,
             "#f0f921"
            ]
           ],
           "sequentialminus": [
            [
             0,
             "#0d0887"
            ],
            [
             0.1111111111111111,
             "#46039f"
            ],
            [
             0.2222222222222222,
             "#7201a8"
            ],
            [
             0.3333333333333333,
             "#9c179e"
            ],
            [
             0.4444444444444444,
             "#bd3786"
            ],
            [
             0.5555555555555556,
             "#d8576b"
            ],
            [
             0.6666666666666666,
             "#ed7953"
            ],
            [
             0.7777777777777778,
             "#fb9f3a"
            ],
            [
             0.8888888888888888,
             "#fdca26"
            ],
            [
             1,
             "#f0f921"
            ]
           ]
          },
          "colorway": [
           "#636efa",
           "#EF553B",
           "#00cc96",
           "#ab63fa",
           "#FFA15A",
           "#19d3f3",
           "#FF6692",
           "#B6E880",
           "#FF97FF",
           "#FECB52"
          ],
          "font": {
           "color": "#2a3f5f"
          },
          "geo": {
           "bgcolor": "white",
           "lakecolor": "white",
           "landcolor": "#E5ECF6",
           "showlakes": true,
           "showland": true,
           "subunitcolor": "white"
          },
          "hoverlabel": {
           "align": "left"
          },
          "hovermode": "closest",
          "mapbox": {
           "style": "light"
          },
          "paper_bgcolor": "white",
          "plot_bgcolor": "#E5ECF6",
          "polar": {
           "angularaxis": {
            "gridcolor": "white",
            "linecolor": "white",
            "ticks": ""
           },
           "bgcolor": "#E5ECF6",
           "radialaxis": {
            "gridcolor": "white",
            "linecolor": "white",
            "ticks": ""
           }
          },
          "scene": {
           "xaxis": {
            "backgroundcolor": "#E5ECF6",
            "gridcolor": "white",
            "gridwidth": 2,
            "linecolor": "white",
            "showbackground": true,
            "ticks": "",
            "zerolinecolor": "white"
           },
           "yaxis": {
            "backgroundcolor": "#E5ECF6",
            "gridcolor": "white",
            "gridwidth": 2,
            "linecolor": "white",
            "showbackground": true,
            "ticks": "",
            "zerolinecolor": "white"
           },
           "zaxis": {
            "backgroundcolor": "#E5ECF6",
            "gridcolor": "white",
            "gridwidth": 2,
            "linecolor": "white",
            "showbackground": true,
            "ticks": "",
            "zerolinecolor": "white"
           }
          },
          "shapedefaults": {
           "line": {
            "color": "#2a3f5f"
           }
          },
          "ternary": {
           "aaxis": {
            "gridcolor": "white",
            "linecolor": "white",
            "ticks": ""
           },
           "baxis": {
            "gridcolor": "white",
            "linecolor": "white",
            "ticks": ""
           },
           "bgcolor": "#E5ECF6",
           "caxis": {
            "gridcolor": "white",
            "linecolor": "white",
            "ticks": ""
           }
          },
          "title": {
           "x": 0.05
          },
          "xaxis": {
           "automargin": true,
           "gridcolor": "white",
           "linecolor": "white",
           "ticks": "",
           "title": {
            "standoff": 15
           },
           "zerolinecolor": "white",
           "zerolinewidth": 2
          },
          "yaxis": {
           "automargin": true,
           "gridcolor": "white",
           "linecolor": "white",
           "ticks": "",
           "title": {
            "standoff": 15
           },
           "zerolinecolor": "white",
           "zerolinewidth": 2
          }
         }
        },
        "title": {
         "text": "Sell Order Placement - Strategy: ce452162-a798-4b3d-b44f-09e09447ff11"
        },
        "xaxis": {
         "title": {
          "text": "Contract Time"
         }
        },
        "yaxis": {
         "title": {
          "text": "Price"
         }
        }
       }
      }
     },
     "metadata": {},
     "output_type": "display_data"
    },
    {
     "name": "stdout",
     "output_type": "stream",
     "text": [
      "Fill rates by strategy:\n",
      "23d220ec-9ca7-44c8-81b2-91c120c371fa: 95.65%\n",
      "ce452162-a798-4b3d-b44f-09e09447ff11: 95.65%\n"
     ]
    },
    {
     "data": {
      "text/plain": [
       "<Figure size 1000x600 with 0 Axes>"
      ]
     },
     "metadata": {},
     "output_type": "display_data"
    }
   ],
   "source": [
    "import datetime\n",
    "import pandas as pd\n",
    "import matplotlib.pyplot as plt\n",
    "from src.sim import TradingSimulation\n",
    "\n",
    "# Setup simulation timeframe (just 3 steps)\n",
    "start_time = datetime.datetime(2023, 1, 1, 10, 0)\n",
    "end_time = datetime.datetime(2023, 1, 1, 15, 30)\n",
    "time_step = datetime.timedelta(minutes=15)\n",
    "\n",
    "# Create two strategies with matching prices\n",
    "buy_strategy = FixedOrderStrategy(price=50.0, quantity=1, side='buy')\n",
    "sell_strategy = FixedOrderStrategy(price=50.0, quantity=1, side='sell')\n",
    "\n",
    "# Create minimal clearing mechanism\n",
    "clearing = MinimalClearing()\n",
    "\n",
    "# Setup and run simulation\n",
    "sim = TradingSimulation(\n",
    "    start_time=start_time,\n",
    "    end_time=end_time,\n",
    "    time_step=time_step,\n",
    "    strategies=[buy_strategy, sell_strategy],\n",
    "    clearing_mechanism=clearing\n",
    ")\n",
    "\n",
    "\n",
    "# After running simulation\n",
    "results = sim.run()\n",
    "metrics = sim.analyze()\n",
    "\n",
    "# Create visualizer\n",
    "from src.plot import SimulationVisualizer\n",
    "viz = SimulationVisualizer(metrics, results)\n",
    "\n",
    "# View all plots organized by strategy\n",
    "viz.create_dashboard().show()\n",
    "\n",
    "# Or view specific plots\n",
    "viz.plot_buy_orders(strategy_id=sell_strategy.id).show()\n",
    "viz.plot_sell_orders(strategy_id=sell_strategy.id).show()\n",
    "\n",
    "# Or get specific metrics\n",
    "fill_rates = sim.analyze(metrics=[\"fill_rate\"])\n",
    "\n",
    "# Display fill rates by strategy\n",
    "print(\"Fill rates by strategy:\")\n",
    "for strategy_id, data in fill_rates[\"fill_rate\"].items():\n",
    "    print(f\"{strategy_id}: {data['fill_rate']:.2%}\")\n",
    "\n",
    "# Visualize time to fill\n",
    "time_to_fill = sim.analyze(metrics=[\"time_to_fill\"])\n",
    "\n",
    "# Create a bar chart of mean time to fill by strategy\n",
    "plt.figure(figsize=(10, 6))\n",
    "strategies = []\n",
    "times = []\n",
    "\n",
    "for strategy_id, data in time_to_fill[\"time_to_fill\"].items():\n",
    "    if 'mean_seconds' in data:  # Check if there were filled orders\n",
    "        strategies.append(strategy_id)\n",
    "        times.append(data['mean_seconds'])\n",
    "\n",
    "\n",
    "# Compare execution prices\n",
    "execution_prices = sim.analyze(metrics=[\"execution_prices\"])\n"
   ]
  },
  {
   "cell_type": "code",
   "execution_count": 8,
   "metadata": {},
   "outputs": [
    {
     "data": {
      "text/plain": [
       "Index(['order_id', 'strategy_id', 'side', 'price', 'quantity', 'contract_time',\n",
       "       'submission_time', 'execution_time', 'status', 'event_type',\n",
       "       'update_count', 'execution_price'],\n",
       "      dtype='object')"
      ]
     },
     "execution_count": 8,
     "metadata": {},
     "output_type": "execute_result"
    }
   ],
   "source": [
    "\n",
    "results.keys()"
   ]
  },
  {
   "cell_type": "code",
   "execution_count": 5,
   "metadata": {},
   "outputs": [
    {
     "data": {
      "text/html": [
       "<div>\n",
       "<style scoped>\n",
       "    .dataframe tbody tr th:only-of-type {\n",
       "        vertical-align: middle;\n",
       "    }\n",
       "\n",
       "    .dataframe tbody tr th {\n",
       "        vertical-align: top;\n",
       "    }\n",
       "\n",
       "    .dataframe thead th {\n",
       "        text-align: right;\n",
       "    }\n",
       "</style>\n",
       "<table border=\"1\" class=\"dataframe\">\n",
       "  <thead>\n",
       "    <tr style=\"text-align: right;\">\n",
       "      <th></th>\n",
       "      <th>order_id</th>\n",
       "      <th>strategy_id</th>\n",
       "      <th>side</th>\n",
       "      <th>price</th>\n",
       "      <th>quantity</th>\n",
       "      <th>contract_time</th>\n",
       "      <th>submission_time</th>\n",
       "      <th>execution_time</th>\n",
       "      <th>status</th>\n",
       "      <th>event_type</th>\n",
       "      <th>update_count</th>\n",
       "      <th>execution_price</th>\n",
       "    </tr>\n",
       "  </thead>\n",
       "  <tbody>\n",
       "    <tr>\n",
       "      <th>0</th>\n",
       "      <td>06ad1c75-2b30-467e-ae16-68adc7872083</td>\n",
       "      <td>fd2158ea-f989-42c7-94fa-61968f20890f</td>\n",
       "      <td>buy</td>\n",
       "      <td>50.0</td>\n",
       "      <td>1</td>\n",
       "      <td>2023-01-01 11:00:00</td>\n",
       "      <td>2023-01-01 10:00:00</td>\n",
       "      <td>NaT</td>\n",
       "      <td>active</td>\n",
       "      <td>submitted</td>\n",
       "      <td>0</td>\n",
       "      <td>NaN</td>\n",
       "    </tr>\n",
       "    <tr>\n",
       "      <th>1</th>\n",
       "      <td>7f6cf49a-8c47-4cae-aec3-2a7a79d21f2b</td>\n",
       "      <td>7f74994c-dddc-49ea-ae30-91bd2fa04b17</td>\n",
       "      <td>sell</td>\n",
       "      <td>50.0</td>\n",
       "      <td>1</td>\n",
       "      <td>2023-01-01 11:00:00</td>\n",
       "      <td>2023-01-01 10:00:00</td>\n",
       "      <td>NaT</td>\n",
       "      <td>active</td>\n",
       "      <td>submitted</td>\n",
       "      <td>0</td>\n",
       "      <td>NaN</td>\n",
       "    </tr>\n",
       "    <tr>\n",
       "      <th>2</th>\n",
       "      <td>06ad1c75-2b30-467e-ae16-68adc7872083</td>\n",
       "      <td>fd2158ea-f989-42c7-94fa-61968f20890f</td>\n",
       "      <td>buy</td>\n",
       "      <td>50.0</td>\n",
       "      <td>1</td>\n",
       "      <td>2023-01-01 11:00:00</td>\n",
       "      <td>2023-01-01 10:00:00</td>\n",
       "      <td>2023-01-01 10:15:00</td>\n",
       "      <td>filled</td>\n",
       "      <td>filled</td>\n",
       "      <td>0</td>\n",
       "      <td>50.0</td>\n",
       "    </tr>\n",
       "    <tr>\n",
       "      <th>3</th>\n",
       "      <td>7f6cf49a-8c47-4cae-aec3-2a7a79d21f2b</td>\n",
       "      <td>7f74994c-dddc-49ea-ae30-91bd2fa04b17</td>\n",
       "      <td>sell</td>\n",
       "      <td>50.0</td>\n",
       "      <td>1</td>\n",
       "      <td>2023-01-01 11:00:00</td>\n",
       "      <td>2023-01-01 10:00:00</td>\n",
       "      <td>2023-01-01 10:15:00</td>\n",
       "      <td>filled</td>\n",
       "      <td>filled</td>\n",
       "      <td>0</td>\n",
       "      <td>50.0</td>\n",
       "    </tr>\n",
       "    <tr>\n",
       "      <th>4</th>\n",
       "      <td>759be237-d739-4c05-a08f-08c5ecf204a2</td>\n",
       "      <td>fd2158ea-f989-42c7-94fa-61968f20890f</td>\n",
       "      <td>buy</td>\n",
       "      <td>50.0</td>\n",
       "      <td>1</td>\n",
       "      <td>2023-01-01 11:15:00</td>\n",
       "      <td>2023-01-01 10:15:00</td>\n",
       "      <td>NaT</td>\n",
       "      <td>active</td>\n",
       "      <td>submitted</td>\n",
       "      <td>0</td>\n",
       "      <td>NaN</td>\n",
       "    </tr>\n",
       "    <tr>\n",
       "      <th>...</th>\n",
       "      <td>...</td>\n",
       "      <td>...</td>\n",
       "      <td>...</td>\n",
       "      <td>...</td>\n",
       "      <td>...</td>\n",
       "      <td>...</td>\n",
       "      <td>...</td>\n",
       "      <td>...</td>\n",
       "      <td>...</td>\n",
       "      <td>...</td>\n",
       "      <td>...</td>\n",
       "      <td>...</td>\n",
       "    </tr>\n",
       "    <tr>\n",
       "      <th>85</th>\n",
       "      <td>1b8c3d43-9f9f-4c22-af4b-817f1f6ada54</td>\n",
       "      <td>7f74994c-dddc-49ea-ae30-91bd2fa04b17</td>\n",
       "      <td>sell</td>\n",
       "      <td>50.0</td>\n",
       "      <td>1</td>\n",
       "      <td>2023-01-01 16:15:00</td>\n",
       "      <td>2023-01-01 15:15:00</td>\n",
       "      <td>NaT</td>\n",
       "      <td>active</td>\n",
       "      <td>submitted</td>\n",
       "      <td>0</td>\n",
       "      <td>NaN</td>\n",
       "    </tr>\n",
       "    <tr>\n",
       "      <th>86</th>\n",
       "      <td>dd9bc4d9-7e95-4078-b0a3-a8e24ed0e3aa</td>\n",
       "      <td>fd2158ea-f989-42c7-94fa-61968f20890f</td>\n",
       "      <td>buy</td>\n",
       "      <td>50.0</td>\n",
       "      <td>1</td>\n",
       "      <td>2023-01-01 16:15:00</td>\n",
       "      <td>2023-01-01 15:15:00</td>\n",
       "      <td>2023-01-01 15:30:00</td>\n",
       "      <td>filled</td>\n",
       "      <td>filled</td>\n",
       "      <td>0</td>\n",
       "      <td>50.0</td>\n",
       "    </tr>\n",
       "    <tr>\n",
       "      <th>87</th>\n",
       "      <td>1b8c3d43-9f9f-4c22-af4b-817f1f6ada54</td>\n",
       "      <td>7f74994c-dddc-49ea-ae30-91bd2fa04b17</td>\n",
       "      <td>sell</td>\n",
       "      <td>50.0</td>\n",
       "      <td>1</td>\n",
       "      <td>2023-01-01 16:15:00</td>\n",
       "      <td>2023-01-01 15:15:00</td>\n",
       "      <td>2023-01-01 15:30:00</td>\n",
       "      <td>filled</td>\n",
       "      <td>filled</td>\n",
       "      <td>0</td>\n",
       "      <td>50.0</td>\n",
       "    </tr>\n",
       "    <tr>\n",
       "      <th>88</th>\n",
       "      <td>f50f3aa9-31c8-4396-8602-3c9ea3c7614e</td>\n",
       "      <td>fd2158ea-f989-42c7-94fa-61968f20890f</td>\n",
       "      <td>buy</td>\n",
       "      <td>50.0</td>\n",
       "      <td>1</td>\n",
       "      <td>2023-01-01 16:30:00</td>\n",
       "      <td>2023-01-01 15:30:00</td>\n",
       "      <td>NaT</td>\n",
       "      <td>active</td>\n",
       "      <td>submitted</td>\n",
       "      <td>0</td>\n",
       "      <td>NaN</td>\n",
       "    </tr>\n",
       "    <tr>\n",
       "      <th>89</th>\n",
       "      <td>c0c165a1-1a45-4f76-ab8f-9f6404d9e29e</td>\n",
       "      <td>7f74994c-dddc-49ea-ae30-91bd2fa04b17</td>\n",
       "      <td>sell</td>\n",
       "      <td>50.0</td>\n",
       "      <td>1</td>\n",
       "      <td>2023-01-01 16:30:00</td>\n",
       "      <td>2023-01-01 15:30:00</td>\n",
       "      <td>NaT</td>\n",
       "      <td>active</td>\n",
       "      <td>submitted</td>\n",
       "      <td>0</td>\n",
       "      <td>NaN</td>\n",
       "    </tr>\n",
       "  </tbody>\n",
       "</table>\n",
       "<p>90 rows × 12 columns</p>\n",
       "</div>"
      ],
      "text/plain": [
       "                                order_id  \\\n",
       "0   06ad1c75-2b30-467e-ae16-68adc7872083   \n",
       "1   7f6cf49a-8c47-4cae-aec3-2a7a79d21f2b   \n",
       "2   06ad1c75-2b30-467e-ae16-68adc7872083   \n",
       "3   7f6cf49a-8c47-4cae-aec3-2a7a79d21f2b   \n",
       "4   759be237-d739-4c05-a08f-08c5ecf204a2   \n",
       "..                                   ...   \n",
       "85  1b8c3d43-9f9f-4c22-af4b-817f1f6ada54   \n",
       "86  dd9bc4d9-7e95-4078-b0a3-a8e24ed0e3aa   \n",
       "87  1b8c3d43-9f9f-4c22-af4b-817f1f6ada54   \n",
       "88  f50f3aa9-31c8-4396-8602-3c9ea3c7614e   \n",
       "89  c0c165a1-1a45-4f76-ab8f-9f6404d9e29e   \n",
       "\n",
       "                             strategy_id  side  price  quantity  \\\n",
       "0   fd2158ea-f989-42c7-94fa-61968f20890f   buy   50.0         1   \n",
       "1   7f74994c-dddc-49ea-ae30-91bd2fa04b17  sell   50.0         1   \n",
       "2   fd2158ea-f989-42c7-94fa-61968f20890f   buy   50.0         1   \n",
       "3   7f74994c-dddc-49ea-ae30-91bd2fa04b17  sell   50.0         1   \n",
       "4   fd2158ea-f989-42c7-94fa-61968f20890f   buy   50.0         1   \n",
       "..                                   ...   ...    ...       ...   \n",
       "85  7f74994c-dddc-49ea-ae30-91bd2fa04b17  sell   50.0         1   \n",
       "86  fd2158ea-f989-42c7-94fa-61968f20890f   buy   50.0         1   \n",
       "87  7f74994c-dddc-49ea-ae30-91bd2fa04b17  sell   50.0         1   \n",
       "88  fd2158ea-f989-42c7-94fa-61968f20890f   buy   50.0         1   \n",
       "89  7f74994c-dddc-49ea-ae30-91bd2fa04b17  sell   50.0         1   \n",
       "\n",
       "         contract_time     submission_time      execution_time  status  \\\n",
       "0  2023-01-01 11:00:00 2023-01-01 10:00:00                 NaT  active   \n",
       "1  2023-01-01 11:00:00 2023-01-01 10:00:00                 NaT  active   \n",
       "2  2023-01-01 11:00:00 2023-01-01 10:00:00 2023-01-01 10:15:00  filled   \n",
       "3  2023-01-01 11:00:00 2023-01-01 10:00:00 2023-01-01 10:15:00  filled   \n",
       "4  2023-01-01 11:15:00 2023-01-01 10:15:00                 NaT  active   \n",
       "..                 ...                 ...                 ...     ...   \n",
       "85 2023-01-01 16:15:00 2023-01-01 15:15:00                 NaT  active   \n",
       "86 2023-01-01 16:15:00 2023-01-01 15:15:00 2023-01-01 15:30:00  filled   \n",
       "87 2023-01-01 16:15:00 2023-01-01 15:15:00 2023-01-01 15:30:00  filled   \n",
       "88 2023-01-01 16:30:00 2023-01-01 15:30:00                 NaT  active   \n",
       "89 2023-01-01 16:30:00 2023-01-01 15:30:00                 NaT  active   \n",
       "\n",
       "   event_type  update_count  execution_price  \n",
       "0   submitted             0              NaN  \n",
       "1   submitted             0              NaN  \n",
       "2      filled             0             50.0  \n",
       "3      filled             0             50.0  \n",
       "4   submitted             0              NaN  \n",
       "..        ...           ...              ...  \n",
       "85  submitted             0              NaN  \n",
       "86     filled             0             50.0  \n",
       "87     filled             0             50.0  \n",
       "88  submitted             0              NaN  \n",
       "89  submitted             0              NaN  \n",
       "\n",
       "[90 rows x 12 columns]"
      ]
     },
     "execution_count": 5,
     "metadata": {},
     "output_type": "execute_result"
    }
   ],
   "source": [
    "results"
   ]
  },
  {
   "cell_type": "code",
   "execution_count": null,
   "metadata": {},
   "outputs": [],
   "source": []
  }
 ],
 "metadata": {
  "kernelspec": {
   "display_name": "Python 3",
   "language": "python",
   "name": "python3"
  },
  "language_info": {
   "codemirror_mode": {
    "name": "ipython",
    "version": 3
   },
   "file_extension": ".py",
   "mimetype": "text/x-python",
   "name": "python",
   "nbconvert_exporter": "python",
   "pygments_lexer": "ipython3",
   "version": "3.11.11"
  }
 },
 "nbformat": 4,
 "nbformat_minor": 2
}
